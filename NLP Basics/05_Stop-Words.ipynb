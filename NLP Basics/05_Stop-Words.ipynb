{
 "cells": [
  {
   "cell_type": "markdown",
   "metadata": {},
   "source": [
    "# Stop Words"
   ]
  },
  {
   "cell_type": "code",
   "execution_count": 1,
   "metadata": {},
   "outputs": [],
   "source": [
    "# Perform standard imports:\n",
    "import spacy\n",
    "nlp = spacy.load('en_core_web_sm')"
   ]
  },
  {
   "cell_type": "code",
   "execution_count": 2,
   "metadata": {},
   "outputs": [
    {
     "name": "stdout",
     "output_type": "stream",
     "text": [
      "{'cannot', 'nowhere', 'both', 'between', 'eleven', 'toward', 'using', 'whereafter', 'eight', 'below', 'each', 'here', 'does', 'used', 'our', 'doing', 'or', 'you', 'alone', 'many', 'mine', 'all', 'me', 'been', 'whence', 'than', 'and', 'empty', 'at', 'is', 'ten', 'everyone', 'per', '’re', 'much', 'about', 'amount', 'for', 'very', '‘m', 'latterly', 'always', 'something', 'serious', 'next', 'beforehand', 'see', 'herself', 'thereby', 'wherever', 'during', 'various', 'somehow', 'after', 'done', 'n’t', 'several', 'must', 'everything', \"'m\", 'have', 'even', 'another', 'say', 'call', 'least', 'from', 'hereafter', 'first', 'seeming', 'where', 'get', 'might', 'really', 'side', 'again', 'already', 'anyway', 'your', 'part', 'hereby', 'himself', 'nevertheless', 'move', 'quite', 'there', 'whoever', 'becomes', 'besides', 'ours', 'were', 'yourselves', 'in', 'whose', 'his', 'she', 'meanwhile', 'but', 'name', 'almost', 'can', 'still', 'hundred', 'seems', 'him', 'most', 'somewhere', 'the', 'amongst', 'those', 'thru', 'they', 'would', 'being', 'am', 'none', 'because', 'full', 'when', '‘ve', 'by', 'throughout', 'any', 'back', 'become', 'thereafter', 'otherwise', 'on', 'show', 'beyond', 'since', 'thereupon', 'formerly', 'other', 'else', 'within', 'former', 'elsewhere', 'then', 'seemed', 'around', 'give', 'over', 'forty', 'this', 'until', 'nor', 'due', \"'re\", 'every', 'myself', 'keep', 'someone', 'own', 'please', 'these', 'via', 'hers', 'which', 'has', 'into', 'well', 'anyhow', 'some', 'did', 'namely', 'nine', 'seem', 'although', 'do', 'beside', 'therein', 'my', 'often', 'two', 'up', 'yet', 'an', 'whenever', 'not', 'moreover', 'if', 'more', 'hereupon', 'ever', \"'ve\", 'others', 'now', 'thence', 'sometime', 'though', 'unless', 'top', 'few', 'itself', 'no', 'whereupon', 'how', \"'d\", 'with', 'yours', 'i', 'through', 'whatever', 'six', 'could', 'will', '‘ll', 'above', 'nothing', 'their', 'becoming', 'therefore', 'we', 'also', 'along', 'last', 'made', 'among', 'once', 'twelve', 'while', '‘d', 're', 'sixty', 'front', 'latter', 'perhaps', 'however', 'anything', 'too', 'without', 'yourself', 'be', '’ll', 'should', 'afterwards', 'who', '‘re', 'three', 'upon', 'bottom', 'was', 'anywhere', 'down', 'to', 'it', 'indeed', 'its', 'of', 'twenty', 'whither', 'fifteen', 'onto', 'whole', 'make', 'only', 'themselves', 'such', 'regarding', 'what', 'became', 'fifty', 'before', 'mostly', 'less', '’m', 'are', 'why', 'a', \"'ll\", 'behind', 'whereas', 'may', 'across', 'thus', 'noone', 'together', 'whether', 'under', \"n't\", \"'s\", 'either', '’s', 'ca', 'third', 'neither', 'ourselves', 'same', 'n‘t', 'put', 'hence', 'go', 'wherein', '‘s', 'towards', 'her', 'five', 'further', 'enough', 'so', 'against', 'whom', 'that', 'them', 'except', 'take', 'whereby', '’d', 'never', 'off', 'out', 'just', 'as', 'four', 'us', 'had', 'herein', 'nobody', 'rather', 'sometimes', 'one', 'he', '’ve', 'anyone', 'everywhere'}\n"
     ]
    }
   ],
   "source": [
    "# Print the set of spaCy's default stop words (remember that sets are unordered):\n",
    "print(nlp.Defaults.stop_words)"
   ]
  },
  {
   "cell_type": "code",
   "execution_count": 3,
   "metadata": {},
   "outputs": [
    {
     "data": {
      "text/plain": [
       "326"
      ]
     },
     "execution_count": 3,
     "metadata": {},
     "output_type": "execute_result"
    }
   ],
   "source": [
    "len(nlp.Defaults.stop_words)"
   ]
  },
  {
   "cell_type": "markdown",
   "metadata": {},
   "source": [
    "## To see if a word is a stop word"
   ]
  },
  {
   "cell_type": "code",
   "execution_count": 4,
   "metadata": {},
   "outputs": [
    {
     "data": {
      "text/plain": [
       "True"
      ]
     },
     "execution_count": 4,
     "metadata": {},
     "output_type": "execute_result"
    }
   ],
   "source": [
    "nlp.vocab['myself'].is_stop"
   ]
  },
  {
   "cell_type": "code",
   "execution_count": 5,
   "metadata": {},
   "outputs": [
    {
     "data": {
      "text/plain": [
       "False"
      ]
     },
     "execution_count": 5,
     "metadata": {},
     "output_type": "execute_result"
    }
   ],
   "source": [
    "nlp.vocab['mystery'].is_stop"
   ]
  },
  {
   "cell_type": "markdown",
   "metadata": {},
   "source": [
    "## To add a stop word"
   ]
  },
  {
   "cell_type": "code",
   "execution_count": 6,
   "metadata": {},
   "outputs": [],
   "source": [
    "# Add the word to the set of stop words. Use lowercase!\n",
    "nlp.Defaults.stop_words.add('btw')\n",
    "\n",
    "# Set the stop_word tag on the lexeme\n",
    "nlp.vocab['btw'].is_stop = True"
   ]
  },
  {
   "cell_type": "code",
   "execution_count": 7,
   "metadata": {},
   "outputs": [
    {
     "data": {
      "text/plain": [
       "327"
      ]
     },
     "execution_count": 7,
     "metadata": {},
     "output_type": "execute_result"
    }
   ],
   "source": [
    "len(nlp.Defaults.stop_words)"
   ]
  },
  {
   "cell_type": "code",
   "execution_count": 8,
   "metadata": {},
   "outputs": [
    {
     "data": {
      "text/plain": [
       "True"
      ]
     },
     "execution_count": 8,
     "metadata": {},
     "output_type": "execute_result"
    }
   ],
   "source": [
    "nlp.vocab['btw'].is_stop"
   ]
  },
  {
   "cell_type": "markdown",
   "metadata": {},
   "source": [
    "## To remove a stop word"
   ]
  },
  {
   "cell_type": "code",
   "execution_count": 9,
   "metadata": {},
   "outputs": [],
   "source": [
    "# Remove the word from the set of stop words\n",
    "nlp.Defaults.stop_words.remove('beyond')\n",
    "\n",
    "# Remove the stop_word tag from the lexeme\n",
    "nlp.vocab['beyond'].is_stop = False"
   ]
  },
  {
   "cell_type": "code",
   "execution_count": 10,
   "metadata": {},
   "outputs": [
    {
     "data": {
      "text/plain": [
       "326"
      ]
     },
     "execution_count": 10,
     "metadata": {},
     "output_type": "execute_result"
    }
   ],
   "source": [
    "len(nlp.Defaults.stop_words)"
   ]
  },
  {
   "cell_type": "code",
   "execution_count": 11,
   "metadata": {},
   "outputs": [
    {
     "data": {
      "text/plain": [
       "False"
      ]
     },
     "execution_count": 11,
     "metadata": {},
     "output_type": "execute_result"
    }
   ],
   "source": [
    "nlp.vocab['beyond'].is_stop"
   ]
  }
 ],
 "metadata": {
  "kernelspec": {
   "display_name": "Python 3",
   "language": "python",
   "name": "python3"
  },
  "language_info": {
   "codemirror_mode": {
    "name": "ipython",
    "version": 3
   },
   "file_extension": ".py",
   "mimetype": "text/x-python",
   "name": "python",
   "nbconvert_exporter": "python",
   "pygments_lexer": "ipython3",
   "version": "3.6.5"
  }
 },
 "nbformat": 4,
 "nbformat_minor": 2
}
